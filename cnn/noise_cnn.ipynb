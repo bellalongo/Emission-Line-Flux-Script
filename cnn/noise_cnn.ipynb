{
 "cells": [
  {
   "cell_type": "code",
   "execution_count": 1,
   "id": "271b07be-2b48-43e7-aa5f-bc9ee9fd66ac",
   "metadata": {},
   "outputs": [],
   "source": [
    "import astropy.io.fits as fits\n",
    "from astropy.table import Table\n",
    "import csv\n",
    "import numpy as np\n",
    "import sys\n",
    "import pandas as pd\n",
    "\n",
    "sys.path.append('../')\n",
    "from emission_lines import *"
   ]
  },
  {
   "cell_type": "code",
   "execution_count": 2,
   "id": "18826a48-cc18-4b85-882f-2a96761a26c4",
   "metadata": {},
   "outputs": [
    {
     "data": {
      "text/plain": [
       "[[1174.935, 1175.265, 1175.592, 1175.713, 1175.713, 1175.989, 1176.372],\n",
       " [1206.499],\n",
       " [1294.543, 1296.726, 1298.892, 1298.944, 1301.147, 1303.323],\n",
       " [1218.39],\n",
       " [1371.292],\n",
       " [1238.821, 1242.804],\n",
       " [1253.811, 1259.519],\n",
       " [1260.417, 1264.737, 1265.001],\n",
       " [1304.369],\n",
       " [1526.706, 1533.43],\n",
       " [1323.907, 1323.952],\n",
       " [1334.524, 1335.709],\n",
       " [1354.08],\n",
       " [1393.755, 1402.77],\n",
       " [1399.779, 1401.171, 1407.383],\n",
       " [1404.818, 1406.016],\n",
       " [1486.496],\n",
       " [1548.201, 1550.772],\n",
       " [1640.42],\n",
       " [1666.142]]"
      ]
     },
     "execution_count": 2,
     "metadata": {},
     "output_type": "execute_result"
    }
   ],
   "source": [
    "# Group emission lines\n",
    "data = pd.read_csv(\"../DEM_goodlinelist.csv\")\n",
    "rest_lam_data = pd.DataFrame(data)\n",
    "\n",
    "# Group emission lines\n",
    "emission_line_groups = []\n",
    "grouped_lines = grouping_emission_lines(1160, rest_lam_data)\n",
    "for ion in grouped_lines:\n",
    "    for group in grouped_lines[ion]:\n",
    "        emission_line_groups.append(group)\n",
    "\n",
    "emission_line_groups"
   ]
  },
  {
   "cell_type": "markdown",
   "id": "52d68bc9-fe0c-40f0-becd-f9e8d90df180",
   "metadata": {},
   "source": [
    "## Training Data"
   ]
  },
  {
   "cell_type": "code",
   "execution_count": 3,
   "id": "73b59f47-e1c4-40ac-b1f4-9c7d9b7e9b2b",
   "metadata": {},
   "outputs": [],
   "source": [
    "flux_array, wavelength_array, emission_line_array, label_array = [], [], [], []"
   ]
  },
  {
   "cell_type": "markdown",
   "id": "76695610-0168-4956-ac52-3bac6dd15770",
   "metadata": {},
   "source": [
    "#### GJ-341"
   ]
  },
  {
   "cell_type": "code",
   "execution_count": 4,
   "id": "a46f4fa9-d44e-4bca-a715-2b1f2b0ec284",
   "metadata": {},
   "outputs": [],
   "source": [
    "spectra = fits.getdata('cnn_spectra/hlsp_muscles_hst_cos_gj_341_g130m_v1_component-spec.fits')\n",
    "w, f , e = spectra['WAVELENGTH'], spectra['FLUX'], spectra['ERROR']\n",
    "ecsv_table = Table.read('cnn_spectra_flux/gj-341.ecsv', format='ascii.ecsv', delimiter=' ')\n",
    "\n",
    "peak_width, peak_width_pixels, flux_range = peak_width_finder('m', w)\n",
    "\n",
    "noise_indexes = []\n",
    "for i, error_value in enumerate(ecsv_table['Error']):\n",
    "    count = i\n",
    "    # Check if noise\n",
    "    if error_value == 0:\n",
    "        label_array = np.append(label_array, 'Noise')\n",
    "    else:\n",
    "        label_array = np.append(label_array, 'Not Noise')\n",
    "\n",
    "    # Find emission line group\n",
    "    for group in emission_line_groups:\n",
    "        group_mask = (w > group[0] - peak_width) & (w < group[len(group) - 1] + peak_width) \n",
    "        # Check if valid\n",
    "        if not any(f[group_mask]):\n",
    "            continue\n",
    "            \n",
    "        rest_wavelength = ecsv_table['Rest Wavelength'][i]\n",
    "        wavelengths = w[group_mask]\n",
    "        if (rest_wavelength > wavelengths[0]) and (rest_wavelength < wavelengths[len(wavelengths) - 1]):\n",
    "            flux_array.append(f[group_mask])\n",
    "            wavelength_array.append(w[group_mask])\n",
    "            emission_line_array.append(group)\n",
    "            break"
   ]
  }
 ],
 "metadata": {
  "kernelspec": {
   "display_name": "Python 3 (ipykernel)",
   "language": "python",
   "name": "python3"
  },
  "language_info": {
   "codemirror_mode": {
    "name": "ipython",
    "version": 3
   },
   "file_extension": ".py",
   "mimetype": "text/x-python",
   "name": "python",
   "nbconvert_exporter": "python",
   "pygments_lexer": "ipython3",
   "version": "3.12.2"
  }
 },
 "nbformat": 4,
 "nbformat_minor": 5
}
