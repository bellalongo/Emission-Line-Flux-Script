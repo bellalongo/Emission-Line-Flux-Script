{
 "cells": [
  {
   "cell_type": "markdown",
   "id": "52d68bc9-fe0c-40f0-becd-f9e8d90df180",
   "metadata": {},
   "source": [
    "## Training Data"
   ]
  },
  {
   "cell_type": "code",
   "execution_count": null,
   "id": "7372aa08-2fb4-40d1-a755-422ab2c9385a",
   "metadata": {},
   "outputs": [],
   "source": [
    "spectra_files = "
   ]
  },
  {
   "cell_type": "markdown",
   "id": "a1d235dc-3171-4f06-9c00-36b366e69dde",
   "metadata": {},
   "source": [
    "#### Noise"
   ]
  },
  {
   "cell_type": "code",
   "execution_count": null,
   "id": "a46f4fa9-d44e-4bca-a715-2b1f2b0ec284",
   "metadata": {},
   "outputs": [],
   "source": []
  }
 ],
 "metadata": {
  "kernelspec": {
   "display_name": "Python 3 (ipykernel)",
   "language": "python",
   "name": "python3"
  },
  "language_info": {
   "codemirror_mode": {
    "name": "ipython",
    "version": 3
   },
   "file_extension": ".py",
   "mimetype": "text/x-python",
   "name": "python",
   "nbconvert_exporter": "python",
   "pygments_lexer": "ipython3",
   "version": "3.12.2"
  }
 },
 "nbformat": 4,
 "nbformat_minor": 5
}
